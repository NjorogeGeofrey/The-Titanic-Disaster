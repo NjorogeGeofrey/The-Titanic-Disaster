{
 "cells": [
  {
   "cell_type": "markdown",
   "id": "9c08b86d",
   "metadata": {},
   "source": [
    "# The Titanic Project"
   ]
  },
  {
   "cell_type": "markdown",
   "id": "95bdef71",
   "metadata": {},
   "source": [
    "# Importing Data"
   ]
  },
  {
   "cell_type": "code",
   "execution_count": 29,
   "id": "4d93b8f3",
   "metadata": {},
   "outputs": [
    {
     "name": "stdout",
     "output_type": "stream",
     "text": [
      "PassengerId    418\n",
      "Survived       418\n",
      "Pclass         418\n",
      "Name           418\n",
      "Sex            418\n",
      "Age            332\n",
      "SibSp          418\n",
      "Parch          418\n",
      "Ticket         418\n",
      "Fare           417\n",
      "Cabin           91\n",
      "Embarked       418\n",
      "dtype: int64 \n",
      "\n",
      "   PassengerId  Survived  Pclass  \\\n",
      "0          892         0       3   \n",
      "1          893         1       3   \n",
      "2          894         0       2   \n",
      "3          895         0       3   \n",
      "4          896         1       3   \n",
      "\n",
      "                                           Name     Sex   Age  SibSp  Parch  \\\n",
      "0                              Kelly, Mr. James    male  34.5      0      0   \n",
      "1              Wilkes, Mrs. James (Ellen Needs)  female  47.0      1      0   \n",
      "2                     Myles, Mr. Thomas Francis    male  62.0      0      0   \n",
      "3                              Wirz, Mr. Albert    male  27.0      0      0   \n",
      "4  Hirvonen, Mrs. Alexander (Helga E Lindqvist)  female  22.0      1      1   \n",
      "\n",
      "    Ticket     Fare Cabin Embarked  \n",
      "0   330911   7.8292   NaN        Q  \n",
      "1   363272   7.0000   NaN        S  \n",
      "2   240276   9.6875   NaN        Q  \n",
      "3   315154   8.6625   NaN        S  \n",
      "4  3101298  12.2875   NaN        S  \n"
     ]
    }
   ],
   "source": [
    "import pandas as pd\n",
    "df = pd.read_csv(\"C:/Users/njoro/Desktop/R/tested.csv\")\n",
    "print(df.count(0), \"\\n\")\n",
    "\n",
    "print(df.head())"
   ]
  },
  {
   "cell_type": "code",
   "execution_count": 16,
   "id": "8b43d478",
   "metadata": {},
   "outputs": [
    {
     "name": "stdout",
     "output_type": "stream",
     "text": [
      "Columns with Missing Values:\n",
      "PassengerId      0\n",
      "Survived         0\n",
      "Pclass           0\n",
      "Name             0\n",
      "Sex              0\n",
      "Age             86\n",
      "SibSp            0\n",
      "Parch            0\n",
      "Ticket           0\n",
      "Fare             1\n",
      "Cabin          327\n",
      "Embarked         0\n",
      "dtype: int64\n"
     ]
    }
   ],
   "source": [
    "# Check for missing values in the dataset\n",
    "missing_values = df.isnull().sum()\n",
    "\n",
    "# Print out columns with missing values and their corresponding counts\n",
    "print(\"Columns with Missing Values:\")\n",
    "print(missing_values)"
   ]
  },
  {
   "cell_type": "markdown",
   "id": "c2f490a5",
   "metadata": {},
   "source": [
    "# Data description\n",
    "\n",
    "survived: Survival(0 = No, 1 = Yes)\n",
    "\n",
    "pclass: Passenger class(1 = 1st, 2 = 2nd, 3 = 3rd)\n",
    "\n",
    "Name: Name of the passenger\n",
    "\n",
    "Sex: Gender of the passenger\n",
    "\n",
    "Age: Age of the passenger\n",
    "\n",
    "SibSp: Number of siblings/spouses aboard\n",
    "\n",
    "Parch: Number of parents/children aboard\n",
    "\n",
    "Ticket: Ticket number\n",
    "\n",
    "Fare: Passenger fare\n",
    "\n",
    "Cabin: Cabin\n",
    "\n",
    "Embarked: Port of embarkation\n",
    "(C = Cherbourg, Q = Queenstown, S = Southampton)"
   ]
  },
  {
   "cell_type": "markdown",
   "id": "1216a0af",
   "metadata": {},
   "source": [
    "\n",
    "\n",
    "# Descriptive Statistics"
   ]
  },
  {
   "cell_type": "code",
   "execution_count": 3,
   "id": "d08ab31c",
   "metadata": {},
   "outputs": [
    {
     "data": {
      "text/html": [
       "<div>\n",
       "<style scoped>\n",
       "    .dataframe tbody tr th:only-of-type {\n",
       "        vertical-align: middle;\n",
       "    }\n",
       "\n",
       "    .dataframe tbody tr th {\n",
       "        vertical-align: top;\n",
       "    }\n",
       "\n",
       "    .dataframe thead th {\n",
       "        text-align: right;\n",
       "    }\n",
       "</style>\n",
       "<table border=\"1\" class=\"dataframe\">\n",
       "  <thead>\n",
       "    <tr style=\"text-align: right;\">\n",
       "      <th></th>\n",
       "      <th>PassengerId</th>\n",
       "      <th>Survived</th>\n",
       "      <th>Pclass</th>\n",
       "      <th>Age</th>\n",
       "      <th>SibSp</th>\n",
       "      <th>Parch</th>\n",
       "      <th>Fare</th>\n",
       "    </tr>\n",
       "  </thead>\n",
       "  <tbody>\n",
       "    <tr>\n",
       "      <th>count</th>\n",
       "      <td>418.000000</td>\n",
       "      <td>418.000000</td>\n",
       "      <td>418.000000</td>\n",
       "      <td>332.000000</td>\n",
       "      <td>418.000000</td>\n",
       "      <td>418.000000</td>\n",
       "      <td>417.000000</td>\n",
       "    </tr>\n",
       "    <tr>\n",
       "      <th>mean</th>\n",
       "      <td>1100.500000</td>\n",
       "      <td>0.363636</td>\n",
       "      <td>2.265550</td>\n",
       "      <td>30.272590</td>\n",
       "      <td>0.447368</td>\n",
       "      <td>0.392344</td>\n",
       "      <td>35.627188</td>\n",
       "    </tr>\n",
       "    <tr>\n",
       "      <th>std</th>\n",
       "      <td>120.810458</td>\n",
       "      <td>0.481622</td>\n",
       "      <td>0.841838</td>\n",
       "      <td>14.181209</td>\n",
       "      <td>0.896760</td>\n",
       "      <td>0.981429</td>\n",
       "      <td>55.907576</td>\n",
       "    </tr>\n",
       "    <tr>\n",
       "      <th>min</th>\n",
       "      <td>892.000000</td>\n",
       "      <td>0.000000</td>\n",
       "      <td>1.000000</td>\n",
       "      <td>0.170000</td>\n",
       "      <td>0.000000</td>\n",
       "      <td>0.000000</td>\n",
       "      <td>0.000000</td>\n",
       "    </tr>\n",
       "    <tr>\n",
       "      <th>25%</th>\n",
       "      <td>996.250000</td>\n",
       "      <td>0.000000</td>\n",
       "      <td>1.000000</td>\n",
       "      <td>21.000000</td>\n",
       "      <td>0.000000</td>\n",
       "      <td>0.000000</td>\n",
       "      <td>7.895800</td>\n",
       "    </tr>\n",
       "    <tr>\n",
       "      <th>50%</th>\n",
       "      <td>1100.500000</td>\n",
       "      <td>0.000000</td>\n",
       "      <td>3.000000</td>\n",
       "      <td>27.000000</td>\n",
       "      <td>0.000000</td>\n",
       "      <td>0.000000</td>\n",
       "      <td>14.454200</td>\n",
       "    </tr>\n",
       "    <tr>\n",
       "      <th>75%</th>\n",
       "      <td>1204.750000</td>\n",
       "      <td>1.000000</td>\n",
       "      <td>3.000000</td>\n",
       "      <td>39.000000</td>\n",
       "      <td>1.000000</td>\n",
       "      <td>0.000000</td>\n",
       "      <td>31.500000</td>\n",
       "    </tr>\n",
       "    <tr>\n",
       "      <th>max</th>\n",
       "      <td>1309.000000</td>\n",
       "      <td>1.000000</td>\n",
       "      <td>3.000000</td>\n",
       "      <td>76.000000</td>\n",
       "      <td>8.000000</td>\n",
       "      <td>9.000000</td>\n",
       "      <td>512.329200</td>\n",
       "    </tr>\n",
       "  </tbody>\n",
       "</table>\n",
       "</div>"
      ],
      "text/plain": [
       "       PassengerId    Survived      Pclass         Age       SibSp  \\\n",
       "count   418.000000  418.000000  418.000000  332.000000  418.000000   \n",
       "mean   1100.500000    0.363636    2.265550   30.272590    0.447368   \n",
       "std     120.810458    0.481622    0.841838   14.181209    0.896760   \n",
       "min     892.000000    0.000000    1.000000    0.170000    0.000000   \n",
       "25%     996.250000    0.000000    1.000000   21.000000    0.000000   \n",
       "50%    1100.500000    0.000000    3.000000   27.000000    0.000000   \n",
       "75%    1204.750000    1.000000    3.000000   39.000000    1.000000   \n",
       "max    1309.000000    1.000000    3.000000   76.000000    8.000000   \n",
       "\n",
       "            Parch        Fare  \n",
       "count  418.000000  417.000000  \n",
       "mean     0.392344   35.627188  \n",
       "std      0.981429   55.907576  \n",
       "min      0.000000    0.000000  \n",
       "25%      0.000000    7.895800  \n",
       "50%      0.000000   14.454200  \n",
       "75%      0.000000   31.500000  \n",
       "max      9.000000  512.329200  "
      ]
     },
     "execution_count": 3,
     "metadata": {},
     "output_type": "execute_result"
    }
   ],
   "source": [
    "\n",
    "df.describe()"
   ]
  },
  {
   "cell_type": "code",
   "execution_count": 4,
   "id": "cfff3744",
   "metadata": {},
   "outputs": [
    {
     "data": {
      "text/html": [
       "<div>\n",
       "<style scoped>\n",
       "    .dataframe tbody tr th:only-of-type {\n",
       "        vertical-align: middle;\n",
       "    }\n",
       "\n",
       "    .dataframe tbody tr th {\n",
       "        vertical-align: top;\n",
       "    }\n",
       "\n",
       "    .dataframe thead th {\n",
       "        text-align: right;\n",
       "    }\n",
       "</style>\n",
       "<table border=\"1\" class=\"dataframe\">\n",
       "  <thead>\n",
       "    <tr style=\"text-align: right;\">\n",
       "      <th></th>\n",
       "      <th>count</th>\n",
       "      <th>mean</th>\n",
       "      <th>std</th>\n",
       "      <th>min</th>\n",
       "      <th>25%</th>\n",
       "      <th>50%</th>\n",
       "      <th>75%</th>\n",
       "      <th>max</th>\n",
       "    </tr>\n",
       "    <tr>\n",
       "      <th>Pclass</th>\n",
       "      <th></th>\n",
       "      <th></th>\n",
       "      <th></th>\n",
       "      <th></th>\n",
       "      <th></th>\n",
       "      <th></th>\n",
       "      <th></th>\n",
       "      <th></th>\n",
       "    </tr>\n",
       "  </thead>\n",
       "  <tbody>\n",
       "    <tr>\n",
       "      <th>1</th>\n",
       "      <td>107.0</td>\n",
       "      <td>94.280297</td>\n",
       "      <td>84.435858</td>\n",
       "      <td>0.0000</td>\n",
       "      <td>30.10</td>\n",
       "      <td>60.0000</td>\n",
       "      <td>134.5</td>\n",
       "      <td>512.3292</td>\n",
       "    </tr>\n",
       "    <tr>\n",
       "      <th>2</th>\n",
       "      <td>93.0</td>\n",
       "      <td>22.202104</td>\n",
       "      <td>13.991877</td>\n",
       "      <td>9.6875</td>\n",
       "      <td>13.00</td>\n",
       "      <td>15.7500</td>\n",
       "      <td>26.0</td>\n",
       "      <td>73.5000</td>\n",
       "    </tr>\n",
       "    <tr>\n",
       "      <th>3</th>\n",
       "      <td>217.0</td>\n",
       "      <td>12.459678</td>\n",
       "      <td>10.803698</td>\n",
       "      <td>3.1708</td>\n",
       "      <td>7.75</td>\n",
       "      <td>7.8958</td>\n",
       "      <td>14.4</td>\n",
       "      <td>69.5500</td>\n",
       "    </tr>\n",
       "  </tbody>\n",
       "</table>\n",
       "</div>"
      ],
      "text/plain": [
       "        count       mean        std     min    25%      50%    75%       max\n",
       "Pclass                                                                      \n",
       "1       107.0  94.280297  84.435858  0.0000  30.10  60.0000  134.5  512.3292\n",
       "2        93.0  22.202104  13.991877  9.6875  13.00  15.7500   26.0   73.5000\n",
       "3       217.0  12.459678  10.803698  3.1708   7.75   7.8958   14.4   69.5500"
      ]
     },
     "execution_count": 4,
     "metadata": {},
     "output_type": "execute_result"
    }
   ],
   "source": [
    "#More Decriptive statistics \n",
    "# The number of passangers per class and the avarage fare price by passanger class\n",
    "df['Fare'].groupby(df['Pclass']).describe()"
   ]
  },
  {
   "cell_type": "markdown",
   "id": "cc7711ed",
   "metadata": {},
   "source": [
    "\n",
    "\n",
    "# Data visualizations"
   ]
  },
  {
   "cell_type": "code",
   "execution_count": 5,
   "id": "43b2b804",
   "metadata": {},
   "outputs": [
    {
     "data": {
      "text/plain": [
       "Text(0, 0.5, 'Counts')"
      ]
     },
     "execution_count": 5,
     "metadata": {},
     "output_type": "execute_result"
    },
    {
     "data": {
      "image/png": "[encoded data removed]",
      "text/plain": [
       "<Figure size 720x504 with 1 Axes>"
      ]
     },
     "metadata": {
      "needs_background": "light"
     },
     "output_type": "display_data"
    }
   ],
   "source": [
    "import matplotlib.pyplot as plt\n",
    "import seaborn as sns\n",
    "\n",
    "#Distribution of Gender\n",
    "plt.figure(figsize = (10, 7))\n",
    "plt.title('Distribution of Gender')\n",
    "sns.countplot(data = df, x = 'Sex', palette = 'viridis')\n",
    "plt.xlabel('Sex')\n",
    "plt.ylabel('Counts')\n"
   ]
  },
  {
   "cell_type": "code",
   "execution_count": 6,
   "id": "5fea12c4",
   "metadata": {},
   "outputs": [
    {
     "data": {
      "text/plain": [
       "Text(0, 0.5, 'Frequency')"
      ]
     },
     "execution_count": 6,
     "metadata": {},
     "output_type": "execute_result"
    },
    {
     "data": {
      "image/png": "[encoded data removed]",
      "text/plain": [
       "<Figure size 720x432 with 1 Axes>"
      ]
     },
     "metadata": {
      "needs_background": "light"
     },
     "output_type": "display_data"
    }
   ],
   "source": [
    "# Age Distribution \n",
    "\n",
    "plt.figure(figsize = (10, 6))\n",
    "plt.title('Age distribution')\n",
    "sns.histplot(data = df, x= 'Age', bins = 10, kde = True, color = 'skyblue')\n",
    "plt.xlabel('Age')\n",
    "plt.ylabel('Frequency')\n",
    "\n"
   ]
  },
  {
   "cell_type": "code",
   "execution_count": 7,
   "id": "676be60e",
   "metadata": {},
   "outputs": [
    {
     "name": "stdout",
     "output_type": "stream",
     "text": [
      "<class 'pandas.core.series.Series'>\n",
      "RangeIndex: 418 entries, 0 to 417\n",
      "Series name: Survived\n",
      "Non-Null Count  Dtype\n",
      "--------------  -----\n",
      "418 non-null    int64\n",
      "dtypes: int64(1)\n",
      "memory usage: 3.4 KB\n"
     ]
    }
   ],
   "source": [
    "df['Survived'].info()"
   ]
  },
  {
   "cell_type": "code",
   "execution_count": 8,
   "id": "f6f317e9",
   "metadata": {},
   "outputs": [
    {
     "data": {
      "text/plain": [
       "<AxesSubplot:title={'center':'Distribution of Passangers per class'}, xlabel='Pclass', ylabel='count'>"
      ]
     },
     "execution_count": 8,
     "metadata": {},
     "output_type": "execute_result"
    },
    {
     "data": {
      "image/png": "[encoded data removed]",
      "text/plain": [
       "<Figure size 720x504 with 1 Axes>"
      ]
     },
     "metadata": {
      "needs_background": "light"
     },
     "output_type": "display_data"
    }
   ],
   "source": [
    "# Distribution of Passengers per class\n",
    "plt.figure(figsize = (10, 7))\n",
    "plt.title('Distribution of Passangers per class')\n",
    "sns.countplot(data = df, x = 'Pclass', palette = 'viridis')"
   ]
  },
  {
   "cell_type": "code",
   "execution_count": 9,
   "id": "e250eee5",
   "metadata": {},
   "outputs": [
    {
     "data": {
      "text/plain": [
       "Text(0.5, 0, 'Passenger Class')"
      ]
     },
     "execution_count": 9,
     "metadata": {},
     "output_type": "execute_result"
    },
    {
     "data": {
      "image/png": "[encoded data removed]",
      "text/plain": [
       "<Figure size 720x504 with 1 Axes>"
      ]
     },
     "metadata": {
      "needs_background": "light"
     },
     "output_type": "display_data"
    }
   ],
   "source": [
    "# Survival based on Passenger class\n",
    "plt.figure(figsize = (10, 7))\n",
    "plt.title('Survival count by Passanger Class')\n",
    "sns.countplot(data = df, x = 'Pclass', hue = 'Survived', palette = 'viridis')\n",
    "plt.xlabel('Passenger Class')\n"
   ]
  },
  {
   "cell_type": "code",
   "execution_count": 10,
   "id": "fe1315b7",
   "metadata": {},
   "outputs": [
    {
     "data": {
      "text/plain": [
       "Text(0.5, 0, 'Port of Embarkation')"
      ]
     },
     "execution_count": 10,
     "metadata": {},
     "output_type": "execute_result"
    },
    {
     "data": {
      "image/png": "[encoded data removed]",
      "text/plain": [
       "<Figure size 720x576 with 1 Axes>"
      ]
     },
     "metadata": {
      "needs_background": "light"
     },
     "output_type": "display_data"
    }
   ],
   "source": [
    "#Now lets check the distribution by  Port of embarkation\n",
    "plt.figure(figsize = (10, 8))\n",
    "plt.title('Survival based on their Port of Embarkation')\n",
    "sns.countplot(data = df, x = 'Embarked', hue = 'Survived', palette = 'viridis')\n",
    "plt.xlabel('Port of Embarkation')"
   ]
  },
  {
   "cell_type": "markdown",
   "id": "04941445",
   "metadata": {},
   "source": [
    "\n",
    "\n",
    "# Data Preprocessing"
   ]
  },
  {
   "cell_type": "code",
   "execution_count": 12,
   "id": "aab1b67f",
   "metadata": {},
   "outputs": [],
   "source": [
    "\n",
    "import sklearn\n",
    "%matplotlib inline\n",
    "from sklearn.linear_model import LogisticRegression\n",
    "from sklearn.svm  import SVC\n",
    "from sklearn.neighbors import KNeighborsClassifier\n",
    "from sklearn.ensemble import RandomForestClassifier,ExtraTreesClassifier,GradientBoostingClassifier\n",
    "from sklearn.metrics import accuracy_score, classification_report,recall_score,precision_score,f1_score,confusion_matrix,ConfusionMatrixDisplay,roc_curve,auc,precision_recall_curve\n",
    "from sklearn.tree import DecisionTreeClassifier"
   ]
  },
  {
   "cell_type": "code",
   "execution_count": 30,
   "id": "53e176f8",
   "metadata": {},
   "outputs": [],
   "source": [
    "#First we will remove the unnecessary columns\n",
    "df = df.drop(['PassengerId', 'Ticket', 'Cabin', 'Name'], axis = 1)\n"
   ]
  },
  {
   "cell_type": "code",
   "execution_count": 31,
   "id": "a0791154",
   "metadata": {},
   "outputs": [
    {
     "name": "stdout",
     "output_type": "stream",
     "text": [
      "Survived    0\n",
      "Pclass      0\n",
      "Sex         0\n",
      "Age         0\n",
      "SibSp       0\n",
      "Parch       0\n",
      "Fare        0\n",
      "Embarked    0\n",
      "dtype: int64\n"
     ]
    }
   ],
   "source": [
    "#Drop all missing values\n",
    "df = df.dropna()\n",
    "\n",
    "missing = df.isnull().sum()\n",
    "print(missing)"
   ]
  },
  {
   "cell_type": "code",
   "execution_count": 32,
   "id": "03c0c814",
   "metadata": {},
   "outputs": [],
   "source": [
    "#Mapping categorical variables to numeric\n",
    "Gender_map = {'male': 1, 'female' : 0}\n",
    "df['Sex'] = df['Sex'].map(Gender_map)\n",
    "\n",
    "df['Embarked'] = df ['Embarked'].map({'Q': 1, 'S': 2, 'C':3})"
   ]
  },
  {
   "cell_type": "code",
   "execution_count": 33,
   "id": "7dbb8786",
   "metadata": {},
   "outputs": [],
   "source": [
    " \n",
    "X = df.drop('Survived', axis = 1)\n",
    "Y = df['Survived']"
   ]
  },
  {
   "cell_type": "code",
   "execution_count": 35,
   "id": "8d277665",
   "metadata": {},
   "outputs": [],
   "source": [
    "#Creating the training and testing data\n",
    "from sklearn.model_selection import train_test_split\n",
    "X_train,X_test,Y_train,Y_test = train_test_split(X, Y, test_size = 0.2, random_state = 42)"
   ]
  },
  {
   "cell_type": "markdown",
   "id": "811a2e25",
   "metadata": {},
   "source": [
    "\n",
    "\n",
    "# Model Creation"
   ]
  },
  {
   "cell_type": "code",
   "execution_count": 44,
   "id": "24aaab41",
   "metadata": {},
   "outputs": [],
   "source": [
    "#Selecting models to be used\n",
    "models = [LogisticRegression(),SVC(kernel='linear'),\n",
    "          KNeighborsClassifier(),\n",
    "          RandomForestClassifier(random_state=42),\n",
    "          DecisionTreeClassifier(),\n",
    "          ExtraTreesClassifier(),\n",
    "          GradientBoostingClassifier(random_state=42)]\n",
    "\n",
    "model_names = [\"Logistic Regression\", \"SVC (Linear Kernel)\", \"KNeighborsClassifier\", \"Random Forest Classifier\",\n",
    "               \"Decision Tree Classifier\", \"Extra Trees Classifier\", \"Gradient Boosting Classifier\"]\n"
   ]
  },
  {
   "cell_type": "code",
   "execution_count": 45,
   "id": "101541cd",
   "metadata": {},
   "outputs": [],
   "source": [
    "# Function to train and evaluate models\n",
    "def pred_modelling(models, model_names, X_train, Y_train, X_test, Y_test):\n",
    "    best_models = {}\n",
    "    for model, name in zip(models, model_names):\n",
    "        model.fit(X_train, Y_train)\n",
    "        Y_pred = model.predict(X_test)\n",
    "        accuracy = accuracy_score(Y_test, Y_pred)\n",
    "        precision = precision_score(Y_test, Y_pred)\n",
    "        recall = recall_score(Y_test, Y_pred)\n",
    "        f1 = f1_score(Y_test, Y_pred)\n",
    "        best_models[name] = model\n",
    "        print(f'{name}:')\n",
    "        print(f'Accuracy Score: {accuracy}')\n",
    "        print(f'Precision Score: {precision}')\n",
    "        print(f'Recall Score: {recall}')\n",
    "        print(f'F1 Score: {f1}')\n",
    "        cm = confusion_matrix(Y_test, Y_pred)\n",
    "        ConfusionMatrixDisplay(cm, display_labels=['No Survival', 'Survival']).plot()\n",
    "        plt.show()\n",
    "        print(' ')\n",
    "    return best_models\n"
   ]
  },
  {
   "cell_type": "code",
   "execution_count": 46,
   "id": "f9bf2372",
   "metadata": {},
   "outputs": [
    {
     "name": "stderr",
     "output_type": "stream",
     "text": [
      "E:\\Users\\document\\anaconda3\\lib\\site-packages\\sklearn\\linear_model\\_logistic.py:814: ConvergenceWarning: lbfgs failed to converge (status=1):\n",
      "STOP: TOTAL NO. of ITERATIONS REACHED LIMIT.\n",
      "\n",
      "Increase the number of iterations (max_iter) or scale the data as shown in:\n",
      "    https://scikit-learn.org/stable/modules/preprocessing.html\n",
      "Please also refer to the documentation for alternative solver options:\n",
      "    https://scikit-learn.org/stable/modules/linear_model.html#logistic-regression\n",
      "  n_iter_i = _check_optimize_result(\n"
     ]
    },
    {
     "name": "stdout",
     "output_type": "stream",
     "text": [
      "Logistic Regression:\n",
      "Accuracy Score: 1.0\n",
      "Precision Score: 1.0\n",
      "Recall Score: 1.0\n",
      "F1 Score: 1.0\n"
     ]
    },
    {
     "data": {
      "image/png": "[encoded data removed]",
      "text/plain": [
       "<Figure size 432x288 with 2 Axes>"
      ]
     },
     "metadata": {
      "needs_background": "light"
     },
     "output_type": "display_data"
    },
    {
     "name": "stdout",
     "output_type": "stream",
     "text": [
      " \n",
      "SVC (Linear Kernel):\n",
      "Accuracy Score: 1.0\n",
      "Precision Score: 1.0\n",
      "Recall Score: 1.0\n",
      "F1 Score: 1.0\n"
     ]
    },
    {
     "data": {
      "image/png": "[encoded data removed]",
      "text/plain": [
       "<Figure size 432x288 with 2 Axes>"
      ]
     },
     "metadata": {
      "needs_background": "light"
     },
     "output_type": "display_data"
    },
    {
     "name": "stdout",
     "output_type": "stream",
     "text": [
      " \n",
      "KNeighborsClassifier:\n",
      "Accuracy Score: 0.6865671641791045\n",
      "Precision Score: 0.5263157894736842\n",
      "Recall Score: 0.45454545454545453\n",
      "F1 Score: 0.4878048780487805\n"
     ]
    },
    {
     "data": {
      "image/png": "[encoded data removed]",
      "text/plain": [
       "<Figure size 432x288 with 2 Axes>"
      ]
     },
     "metadata": {
      "needs_background": "light"
     },
     "output_type": "display_data"
    },
    {
     "name": "stdout",
     "output_type": "stream",
     "text": [
      " \n",
      "Random Forest Classifier:\n",
      "Accuracy Score: 1.0\n",
      "Precision Score: 1.0\n",
      "Recall Score: 1.0\n",
      "F1 Score: 1.0\n"
     ]
    },
    {
     "data": {
      "image/png": "[encoded data removed]",
      "text/plain": [
       "<Figure size 432x288 with 2 Axes>"
      ]
     },
     "metadata": {
      "needs_background": "light"
     },
     "output_type": "display_data"
    },
    {
     "name": "stdout",
     "output_type": "stream",
     "text": [
      " \n",
      "Decision Tree Classifier:\n",
      "Accuracy Score: 1.0\n",
      "Precision Score: 1.0\n",
      "Recall Score: 1.0\n",
      "F1 Score: 1.0\n"
     ]
    },
    {
     "data": {
      "image/png": "[encoded data removed]",
      "text/plain": [
       "<Figure size 432x288 with 2 Axes>"
      ]
     },
     "metadata": {
      "needs_background": "light"
     },
     "output_type": "display_data"
    },
    {
     "name": "stdout",
     "output_type": "stream",
     "text": [
      " \n",
      "Extra Trees Classifier:\n",
      "Accuracy Score: 1.0\n",
      "Precision Score: 1.0\n",
      "Recall Score: 1.0\n",
      "F1 Score: 1.0\n"
     ]
    },
    {
     "data": {
      "image/png": "[encoded data removed]",
      "text/plain": [
       "<Figure size 432x288 with 2 Axes>"
      ]
     },
     "metadata": {
      "needs_background": "light"
     },
     "output_type": "display_data"
    },
    {
     "name": "stdout",
     "output_type": "stream",
     "text": [
      " \n",
      "Gradient Boosting Classifier:\n",
      "Accuracy Score: 1.0\n",
      "Precision Score: 1.0\n",
      "Recall Score: 1.0\n",
      "F1 Score: 1.0\n"
     ]
    },
    {
     "data": {
      "image/png": "[encoded data removed]",
      "text/plain": [
       "<Figure size 432x288 with 2 Axes>"
      ]
     },
     "metadata": {
      "needs_background": "light"
     },
     "output_type": "display_data"
    },
    {
     "name": "stdout",
     "output_type": "stream",
     "text": [
      " \n"
     ]
    }
   ],
   "source": [
    "# Running the model evaluation\n",
    "best_models = pred_modelling(models, model_names, X_train, Y_train, X_test, Y_test)"
   ]
  },
  {
   "cell_type": "code",
   "execution_count": 47,
   "id": "0cb9806c",
   "metadata": {},
   "outputs": [
    {
     "data": {
      "text/plain": [
       "{'Logistic Regression': LogisticRegression(),\n",
       " 'SVC (Linear Kernel)': SVC(kernel='linear'),\n",
       " 'KNeighborsClassifier': KNeighborsClassifier(),\n",
       " 'Random Forest Classifier': RandomForestClassifier(random_state=42),\n",
       " 'Decision Tree Classifier': DecisionTreeClassifier(),\n",
       " 'Extra Trees Classifier': ExtraTreesClassifier(),\n",
       " 'Gradient Boosting Classifier': GradientBoostingClassifier(random_state=42)}"
      ]
     },
     "execution_count": 47,
     "metadata": {},
     "output_type": "execute_result"
    }
   ],
   "source": [
    "best_models"
   ]
  },
  {
   "cell_type": "markdown",
   "id": "db08e909",
   "metadata": {},
   "source": [
    "\n",
    "\n",
    "# Allowing users to make their own prediction"
   ]
  },
  {
   "cell_type": "code",
   "execution_count": null,
   "id": "3c2614d7",
   "metadata": {},
   "outputs": [],
   "source": [
    "# Function to allow user to select a model and input feature values for prediction\n",
    "def user_input_prediction(best_models):\n",
    "    print(\"Select a model from the list below:\")\n",
    "    for idx, name in enumerate(best_models.keys()):\n",
    "        print(f\"{idx+1}. {name}\")\n",
    "    \n",
    "    model_index = int(input(\"Enter the number of the model you want to use: \")) - 1\n",
    "    selected_model_name = list(best_models.keys())[model_index]\n",
    "    selected_model = best_models[selected_model_name]\n",
    "    \n",
    "    print(f\"You selected: {selected_model_name}\")\n",
    "    \n",
    "    print(\"Enter the following feature values:\")\n",
    "    Pclass = int(input(\"Passenger class(1 = 1st, 2 = 2nd, 3 = 3rd): \"))\n",
    "    Sex = int(input(\"Sex (1 for male, 0 for female): \"))\n",
    "    Age = float(input(\"Age: \"))\n",
    "    SibSp = int(input(\"Number of siblings/spouses aboard: \"))\n",
    "    Parch = int(input(\"Number of parents/children aboard: \"))\n",
    "    Fare = float(input(\"Passenger fare: \"))\n",
    "    Embarked = int(input(\"Port of embarkation (1 = Queenstown, 2 = Southampton, 3 = Cherbourg): \"))\n",
    "    \n",
    "    features = [[Pclass, Sex, Age, SibSp, Parch, Fare, Embarked]]\n",
    "    prediction = selected_model.predict(features)\n",
    "    \n",
    "    print(f\"The model predicts: {'You would have Survived' if prediction[0] == 1 else 'You would not survive'}\")\n"
   ]
  },
  {
   "cell_type": "markdown",
   "id": "ad565c54",
   "metadata": {},
   "source": [
    "## Run the code below to see if you would have survived"
   ]
  },
  {
   "cell_type": "code",
   "execution_count": null,
   "id": "9b4c4531",
   "metadata": {},
   "outputs": [],
   "source": [
    "# Allowing user to make a prediction\n",
    "user_input_prediction(best_models)\n"
   ]
  }
 ],
 "metadata": {
  "kernelspec": {
   "display_name": "Python 3 (ipykernel)",
   "language": "python",
   "name": "python3"
  },
  "language_info": {
   "codemirror_mode": {
    "name": "ipython",
    "version": 3
   },
   "file_extension": ".py",
   "mimetype": "text/x-python",
   "name": "python",
   "nbconvert_exporter": "python",
   "pygments_lexer": "ipython3",
   "version": "3.9.12"
  }
 },
 "nbformat": 4,
 "nbformat_minor": 5
}
